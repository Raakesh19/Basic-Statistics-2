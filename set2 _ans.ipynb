{
 "cells": [
  {
   "cell_type": "markdown",
   "id": "2672956a",
   "metadata": {},
   "source": [
    "## Set2 (Normal distribution, Functions of Random Variables) Q.1"
   ]
  },
  {
   "cell_type": "code",
   "execution_count": 9,
   "id": "9626f89d",
   "metadata": {},
   "outputs": [],
   "source": [
    "# 1.The time required for servicing transmissions is normally distributed with  = 45 minutes and  = 8 minutes. \n",
    "# The service manager plans to have work begin on the transmission of a customer’s car 10 minutes after the car is dropped off \n",
    "# and the customer is told that the car will be ready within 1 hour from drop-off. What is the probability that the service \n",
    "# manager cannot meet his commitment? \n",
    "\n",
    "#A.\t0.3875   \n",
    "#B.\t0.2676   \n",
    "#C.\t0.5   \n",
    "#D.\t0.6987 "
   ]
  },
  {
   "cell_type": "code",
   "execution_count": 15,
   "id": "c12f9f5e",
   "metadata": {},
   "outputs": [],
   "source": [
    "# solutoin:The work begin after 10 min, so the average time increase from 45min to 55min"
   ]
  },
  {
   "cell_type": "code",
   "execution_count": 17,
   "id": "fb7da758",
   "metadata": {},
   "outputs": [
    {
     "data": {
      "text/plain": [
       "0.7340144709512995"
      ]
     },
     "execution_count": 17,
     "metadata": {},
     "output_type": "execute_result"
    }
   ],
   "source": [
    "stats.norm.cdf(x=60,loc=55,scale=8)"
   ]
  },
  {
   "cell_type": "code",
   "execution_count": 16,
   "id": "2441afae",
   "metadata": {},
   "outputs": [],
   "source": [
    "#As we want to find the probability of service manager cannot meet his commitment, So we should write below command."
   ]
  },
  {
   "cell_type": "code",
   "execution_count": 18,
   "id": "037ba4ca",
   "metadata": {},
   "outputs": [
    {
     "data": {
      "text/plain": [
       "0.26598552904870054"
      ]
     },
     "execution_count": 18,
     "metadata": {},
     "output_type": "execute_result"
    }
   ],
   "source": [
    "1-stats.norm.cdf(x=60,loc=55,scale=8)"
   ]
  },
  {
   "cell_type": "markdown",
   "id": "d18ed9f8",
   "metadata": {},
   "source": [
    "### Ans:B"
   ]
  },
  {
   "cell_type": "markdown",
   "id": "5d5e316c",
   "metadata": {},
   "source": [
    "# Set2: Q.2"
   ]
  },
  {
   "cell_type": "code",
   "execution_count": 20,
   "id": "3c22360d",
   "metadata": {},
   "outputs": [],
   "source": [
    "# 2.\tThe current age (in years) of 400 clerical employees at an insurance claims processing center is normally distributed \n",
    "# with mean  = 38 and Standard deviation  =6. For each statement below, please specify True/False. If false, briefly \n",
    "# explain why.\n",
    "# A.\tMore employees at the processing center are older than 44 than between 38 and 44.\n",
    "# B.\tA training program for employees under the age of 30 at the center would be expected to attract about 36 employees."
   ]
  },
  {
   "cell_type": "code",
   "execution_count": 31,
   "id": "de139abe",
   "metadata": {},
   "outputs": [],
   "source": [
    "# A.\tMore employees at the processing center are older than 44 than between 38 and 44."
   ]
  },
  {
   "cell_type": "code",
   "execution_count": 21,
   "id": "3f7ed8b4",
   "metadata": {},
   "outputs": [
    {
     "data": {
      "text/plain": [
       "0.8413447460685429"
      ]
     },
     "execution_count": 21,
     "metadata": {},
     "output_type": "execute_result"
    }
   ],
   "source": [
    "stats.norm.cdf(x=44,loc=38,scale=6)"
   ]
  },
  {
   "cell_type": "code",
   "execution_count": null,
   "id": "046cc983",
   "metadata": {},
   "outputs": [],
   "source": [
    "#People above 44 age = 100 - 84.13 =  15.87%"
   ]
  },
  {
   "cell_type": "code",
   "execution_count": 24,
   "id": "0bf4b986",
   "metadata": {},
   "outputs": [
    {
     "data": {
      "text/plain": [
       "63.48"
      ]
     },
     "execution_count": 24,
     "metadata": {},
     "output_type": "execute_result"
    }
   ],
   "source": [
    "15.87*400/100       # 63  people out of 400"
   ]
  },
  {
   "cell_type": "code",
   "execution_count": 26,
   "id": "10fb6e08",
   "metadata": {},
   "outputs": [
    {
     "data": {
      "text/plain": [
       "0.5"
      ]
     },
     "execution_count": 26,
     "metadata": {},
     "output_type": "execute_result"
    }
   ],
   "source": [
    "stats.norm.cdf(x=38,loc=38,scale=6)"
   ]
  },
  {
   "cell_type": "code",
   "execution_count": null,
   "id": "270a1d24",
   "metadata": {},
   "outputs": [],
   "source": [
    "#Hence People between 38 & 44  age = 84.13 - 50 = 34.13 % "
   ]
  },
  {
   "cell_type": "code",
   "execution_count": 28,
   "id": "97879465",
   "metadata": {
    "scrolled": true
   },
   "outputs": [
    {
     "data": {
      "text/plain": [
       "136.52"
      ]
     },
     "execution_count": 28,
     "metadata": {},
     "output_type": "execute_result"
    }
   ],
   "source": [
    "34.13*400/100     #137 people out of 400."
   ]
  },
  {
   "cell_type": "markdown",
   "id": "52c8e188",
   "metadata": {},
   "source": [
    "### Hence more employees at the processing centre are older than 44 than between 38 and 44. Is FALSE"
   ]
  },
  {
   "cell_type": "code",
   "execution_count": 32,
   "id": "45d11d98",
   "metadata": {},
   "outputs": [],
   "source": [
    "# B.\tA training program for employees under the age of 30 at the center would be expected to attract about 36 employees."
   ]
  },
  {
   "cell_type": "code",
   "execution_count": 29,
   "id": "2ab9b911",
   "metadata": {},
   "outputs": [
    {
     "data": {
      "text/plain": [
       "0.09121121972586788"
      ]
     },
     "execution_count": 29,
     "metadata": {},
     "output_type": "execute_result"
    }
   ],
   "source": [
    "stats.norm.cdf(x=30,loc=38,scale=6)"
   ]
  },
  {
   "cell_type": "code",
   "execution_count": 30,
   "id": "48877ff0",
   "metadata": {},
   "outputs": [
    {
     "data": {
      "text/plain": [
       "36.48"
      ]
     },
     "execution_count": 30,
     "metadata": {},
     "output_type": "execute_result"
    }
   ],
   "source": [
    "# Employees under the age 30 = 9.12%\n",
    "9.12*400/100"
   ]
  },
  {
   "cell_type": "markdown",
   "id": "1a2ff62b",
   "metadata": {},
   "source": [
    "### Hence A training program for employees under the age of 30 at the center would be expected to attract about 36 employees - TRUE"
   ]
  },
  {
   "cell_type": "markdown",
   "id": "ea329366",
   "metadata": {},
   "source": [
    "# set-2 Q.5"
   ]
  },
  {
   "cell_type": "code",
   "execution_count": 1,
   "id": "eefaf146",
   "metadata": {},
   "outputs": [],
   "source": [
    "import numpy as np\n",
    "from scipy import stats\n",
    "from scipy.stats import norm"
   ]
  },
  {
   "cell_type": "code",
   "execution_count": 3,
   "id": "823eb3e0",
   "metadata": {},
   "outputs": [
    {
     "name": "stdout",
     "output_type": "stream",
     "text": [
      "Mean Profit is Rs 540 Million\n"
     ]
    }
   ],
   "source": [
    "# Mean profits from two different divisions of a company = Mean1 + Mean2\n",
    "Mean = 5+7\n",
    "print('Mean Profit is Rs', Mean*45,'Million')"
   ]
  },
  {
   "cell_type": "code",
   "execution_count": 4,
   "id": "5c2b7601",
   "metadata": {},
   "outputs": [
    {
     "name": "stdout",
     "output_type": "stream",
     "text": [
      "Standard Deviation is Rs 225.0 Million\n"
     ]
    }
   ],
   "source": [
    "# Variance of profits from two different divisions of a company = SD^2 = SD1^2 + SD2^2\n",
    "SD = np.sqrt((9)+(16))\n",
    "print('Standard Deviation is Rs', SD*45, 'Million')"
   ]
  },
  {
   "cell_type": "code",
   "execution_count": 5,
   "id": "e80f94b2",
   "metadata": {},
   "outputs": [
    {
     "name": "stdout",
     "output_type": "stream",
     "text": [
      "Range is Rs (99.00810347848784, 980.9918965215122) in Millions\n"
     ]
    }
   ],
   "source": [
    "# A. Specify a Rupee range (centered on the mean) such that it contains 95% probability for the annual profit of the company.\n",
    "print('Range is Rs',(stats.norm.interval(0.95,540,225)),'in Millions')"
   ]
  },
  {
   "cell_type": "code",
   "execution_count": 6,
   "id": "1481f994",
   "metadata": {},
   "outputs": [
    {
     "name": "stdout",
     "output_type": "stream",
     "text": [
      "5th percentile of profit (in Million Rupees) is 170.0\n"
     ]
    }
   ],
   "source": [
    "# B. Specify the 5th percentile of profit (in Rupees) for the company\n",
    "# To compute 5th Percentile, we use the formula X=μ + Zσ; wherein from z table, 5 percentile = -1.645\n",
    "X= 540+(-1.645)*(225)\n",
    "print('5th percentile of profit (in Million Rupees) is',np.round(X,))"
   ]
  },
  {
   "cell_type": "code",
   "execution_count": null,
   "id": "e3679e0a",
   "metadata": {},
   "outputs": [],
   "source": [
    "# C. Which of the two divisions has a larger probability of making a loss in a given year?"
   ]
  },
  {
   "cell_type": "code",
   "execution_count": 7,
   "id": "a31955c8",
   "metadata": {},
   "outputs": [
    {
     "data": {
      "text/plain": [
       "0.0477903522728147"
      ]
     },
     "execution_count": 7,
     "metadata": {},
     "output_type": "execute_result"
    }
   ],
   "source": [
    "# Probability of Division 1 making a loss P(X<0)\n",
    "stats.norm.cdf(0,5,3)"
   ]
  },
  {
   "cell_type": "code",
   "execution_count": 8,
   "id": "0f8b1e16",
   "metadata": {},
   "outputs": [
    {
     "data": {
      "text/plain": [
       "0.040059156863817086"
      ]
     },
     "execution_count": 8,
     "metadata": {},
     "output_type": "execute_result"
    }
   ],
   "source": [
    "# Probability of Division 2 making a loss P(X<0)\n",
    "stats.norm.cdf(0,7,4)"
   ]
  },
  {
   "cell_type": "markdown",
   "id": "5839c93a",
   "metadata": {},
   "source": [
    "### Division 1 has the larger probability of making a loss."
   ]
  },
  {
   "cell_type": "markdown",
   "id": "ba111ce2",
   "metadata": {},
   "source": [
    "# ============================================================"
   ]
  },
  {
   "cell_type": "code",
   "execution_count": null,
   "id": "a7e70e8d",
   "metadata": {},
   "outputs": [],
   "source": []
  }
 ],
 "metadata": {
  "kernelspec": {
   "display_name": "Python 3 (ipykernel)",
   "language": "python",
   "name": "python3"
  },
  "language_info": {
   "codemirror_mode": {
    "name": "ipython",
    "version": 3
   },
   "file_extension": ".py",
   "mimetype": "text/x-python",
   "name": "python",
   "nbconvert_exporter": "python",
   "pygments_lexer": "ipython3",
   "version": "3.9.12"
  }
 },
 "nbformat": 4,
 "nbformat_minor": 5
}
